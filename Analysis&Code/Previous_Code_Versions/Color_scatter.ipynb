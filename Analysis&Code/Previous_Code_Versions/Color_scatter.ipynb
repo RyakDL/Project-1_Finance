{
 "cells": [
  {
   "cell_type": "code",
   "execution_count": null,
   "id": "f07b4401",
   "metadata": {},
   "outputs": [],
   "source": [
    "def color_scatter(df, col1, col2, indicator, bins, title, y_label):\n",
    "    \n",
    "    # creating labels out of bins list\n",
    "    labels = []\n",
    "    for i in range(len(bins)-1):\n",
    "        labels.append(f\"{bins[i]}-{bins[i+1]-1}\")\n",
    "    \n",
    "    df_year = df.copy()\n",
    "    yr = indicator.astype(int)\n",
    "    df_year['labels'] = pd.cut(yr, bins, labels=labels, include_lowest=True)\n",
    "    \n",
    "    #Scatterplot and regression line\n",
    "    groups = df_year.groupby('labels')\n",
    "    for name, group in groups:\n",
    "        plt.plot(group[col1], group[col2], marker='o', linestyle='', markersize=8, label=name)\n",
    "\n",
    "    plt.title(title)\n",
    "    plt.xlabel('Level of Employment')\n",
    "    plt.ylabel(y_label)\n",
    "    plt.legend()\n",
    "    plt.show()"
   ]
  },
  {
   "cell_type": "code",
   "execution_count": null,
   "id": "be0231af",
   "metadata": {},
   "outputs": [],
   "source": [
    "years_bins = [2003,2005, 2008, 2011, 2014, 2017, 2021]\n",
    "date_col = pd.to_datetime(States_merge['DATE'])"
   ]
  },
  {
   "cell_type": "code",
   "execution_count": null,
   "id": "49288ebd",
   "metadata": {},
   "outputs": [],
   "source": [
    "# colored acatter plot for AZ data\n",
    "color_scatter(States_merge, 'EMPLOYAZ', 'AZTAST',date_col.dt.year, years_bins,\"AZ Total CB vs. Total Emp\", \"AZ Total CB\" )"
   ]
  },
  {
   "cell_type": "code",
   "execution_count": null,
   "id": "d502d8f0",
   "metadata": {},
   "outputs": [],
   "source": [
    "# colored acatter plot for CA data\n",
    "color_scatter(States_merge, 'EMPLOYAZ', 'CATAST', date_col.dt.year, years_bins,\"CA Total CB vs. Employment\", \"CA Total CB Assets\")"
   ]
  },
  {
   "cell_type": "code",
   "execution_count": null,
   "id": "0ffe3892",
   "metadata": {},
   "outputs": [],
   "source": [
    "# colored acatter plot for NY data\n",
    "color_scatter(States_merge, 'EMPLOYAZ', 'NYTAST', date_col.dt.year, years_bins,\"NY Total CB vs. Employment\", \"NY Total CB Assets\")"
   ]
  },
  {
   "cell_type": "code",
   "execution_count": null,
   "id": "66ef87fe",
   "metadata": {},
   "outputs": [],
   "source": [
    "# colored acatter plot for TX data\n",
    "color_scatter(States_merge, 'EMPLOYAZ', 'TXTAST', date_col.dt.year, years_bins,\"TX Total CB vs. Employment\", \"TX Total CB Assets\")"
   ]
  },
  {
   "cell_type": "code",
   "execution_count": null,
   "id": "80c17967",
   "metadata": {},
   "outputs": [],
   "source": [
    "# colored acatter plot for FL data\n",
    "color_scatter(States_merge, 'EMPLOYAZ', 'FLTAST', date_col.dt.year, years_bins,\"FL Total CB vs. Employment\", \"FL Total CB Assets\")"
   ]
  },
  {
   "cell_type": "code",
   "execution_count": null,
   "id": "f4da40f8",
   "metadata": {},
   "outputs": [],
   "source": [
    "national_bins = [1973, 1975, 1978, 1981, 1984, 1987,\n",
    "                 1990, 1993, 1996, 1999, 2002, 2005, \n",
    "                 2008, 2011, 2014, 2017, 2020, 2024]\n",
    "national_bins = [1973, 1978, 1984, 1990, 1996, 2002, \n",
    "                 2008, 2014, 2020, 2024]\n",
    "national_date_col = pd.to_datetime(National_merge['DATE'])"
   ]
  },
  {
   "cell_type": "code",
   "execution_count": null,
   "id": "30d38535",
   "metadata": {},
   "outputs": [],
   "source": [
    "# colored acatter plot for US data\n",
    "color_scatter(National_merge, 'EMPLOYMENT WOMEN:US', 'COMM BANKING ASSETS:US', national_date_col.dt.year, national_bins,\"US Total CB vs. Women Emp\", \"US Total CB\" )"
   ]
  },
  {
   "cell_type": "code",
   "execution_count": null,
   "id": "9557eb27",
   "metadata": {},
   "outputs": [],
   "source": [
    "# colored acatter plot for US data\n",
    "color_scatter(National_merge, 'EMPLOYMENT MEN:US', 'COMM BANKING ASSETS:US', national_date_col.dt.year, national_bins,\"US Total CB vs. Men Emp\", \"US Total CB\" )"
   ]
  },
  {
   "cell_type": "code",
   "execution_count": null,
   "id": "a86abcf3",
   "metadata": {},
   "outputs": [],
   "source": [
    "national_bins = [1973, 2003,2005, 2008, 2011, 2014, 2017, 2021]\n",
    "national_date_col = pd.to_datetime(National_merge['DATE'])"
   ]
  },
  {
   "cell_type": "code",
   "execution_count": null,
   "id": "927b7eb7",
   "metadata": {},
   "outputs": [],
   "source": [
    "# colored acatter plot for US data\n",
    "color_scatter(National_merge, 'EMPLOYMENT WOMEN:US', 'COMM BANKING ASSETS:US', national_date_col.dt.year, national_bins,\"US Total CB vs. Women Emp\", \"US Total CB\" )"
   ]
  },
  {
   "cell_type": "code",
   "execution_count": null,
   "id": "1fa512fa",
   "metadata": {},
   "outputs": [],
   "source": [
    "# colored acatter plot for US data\n",
    "color_scatter(National_merge, 'EMPLOYMENT MEN:US', 'COMM BANKING ASSETS:US', national_date_col.dt.year, national_bins,\"US Total CB vs. Men Emp\", \"US Total CB\" )"
   ]
  }
 ],
 "metadata": {
  "kernelspec": {
   "display_name": "Python 3 (ipykernel)",
   "language": "python",
   "name": "python3"
  },
  "language_info": {
   "codemirror_mode": {
    "name": "ipython",
    "version": 3
   },
   "file_extension": ".py",
   "mimetype": "text/x-python",
   "name": "python",
   "nbconvert_exporter": "python",
   "pygments_lexer": "ipython3",
   "version": "3.10.12"
  }
 },
 "nbformat": 4,
 "nbformat_minor": 5
}
